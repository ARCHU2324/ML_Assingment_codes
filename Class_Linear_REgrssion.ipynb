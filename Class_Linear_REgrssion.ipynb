{
  "nbformat": 4,
  "nbformat_minor": 0,
  "metadata": {
    "colab": {
      "name": "Class  Linear REgrssion.ipynb",
      "provenance": [],
      "collapsed_sections": []
    },
    "kernelspec": {
      "name": "python3",
      "display_name": "Python 3"
    },
    "language_info": {
      "name": "python"
    }
  },
  "cells": [
    {
      "cell_type": "code",
      "source": [
        "class Linear_reg:\n",
        "    def start():\n",
        "        globals()['x']=[]\n",
        "        globals()['y']=[]\n",
        "        for i in range(1,6):\n",
        "            a=int(input(\"Enter the number of X:\"))\n",
        "            x.append(a)\n",
        "        for i in range(1,6):\n",
        "            a=int(input(\"Enter the number of Y:\"))\n",
        "            y.append(a)\n",
        "        Linear_reg.start_regression()\n",
        "\n",
        "\n",
        "    def start_regression():\n",
        "        m=0\n",
        "        y_int=0\n",
        "        counter=0\n",
        "        globals()['error_list']=[]\n",
        "        globals()['slope']=[]\n",
        "        globals()['intercept']=[]\n",
        "        Linear_reg.reg(m,y_int,counter)\n",
        "\n",
        "    def reg(m,y_int,counter):\n",
        "        error=0\n",
        "        dm=0\n",
        "        dc=0\n",
        "        y_hat=[]\n",
        "\n",
        "        # creating y-hat = mx\n",
        "        for i in range(len(x)):\n",
        "            temp=x[i]*m+y_int\n",
        "            y_hat.append(temp)\n",
        "        \n",
        "        #Calculating error in error and dE/dm in dm and dE/dc in dc\n",
        "        for i in range(len(x)):\n",
        "            temp=y_hat[i]-y[i]\n",
        "            error=error+temp*temp\n",
        "            dm=temp*x[i]+dm\n",
        "            dc= dc+temp\n",
        "\n",
        "        error_list.append(error)\n",
        "        slope.append(m)\n",
        "        intercept.append(y_int)\n",
        "        \n",
        "        #IF errror is less than 0.05 or it has reached 1000 steps break the fn\n",
        "        if counter==450:\n",
        "            \n",
        "            print(\"Count reached,Slope is : \",m,\"y_int  :\",y_int)\n",
        "            Linear_reg.pred(y_int,m)\n",
        "\n",
        "        elif error<0.01 :\n",
        "            \n",
        "            print(\"Count reached,Slope is : \",m,\"y_int  :\",y_int)\n",
        "            Linear_reg.pred(y_int,m)\n",
        "\n",
        "        #update the slope and intercept value\n",
        "        else:\n",
        "            Linear_reg.update(m,dm,dc,y_int,counter)\n",
        "\n",
        "    #updating new slope \n",
        "    def update(m,dm,dc,y_int,counter):\n",
        "        m_new=m-0.01*dm\n",
        "        y_int_new=y_int-0.01*dc\n",
        "        counter+=1\n",
        "        Linear_reg.reg(m_new,y_int_new,counter)\n",
        "\n",
        "\n",
        "    #taking user input value and predicting output\n",
        "    def pred(y_int,m):\n",
        "        print(\"\\n Equation of line is :  \\t Y = {} * X   +  ( {} )\\n\".format(m,y_int))\n",
        "        x=int(input(\"Enter the number you want to predict:\"))\n",
        "        ans= m*x+y_int\n",
        "        return print(\"\\n Answer is :\",ans)\n"
      ],
      "metadata": {
        "id": "uGKcjKfSneEF"
      },
      "execution_count": 24,
      "outputs": []
    },
    {
      "cell_type": "code",
      "source": [
        "Linear_reg.start()"
      ],
      "metadata": {
        "colab": {
          "base_uri": "https://localhost:8080/"
        },
        "id": "0rrvba9DsAnw",
        "outputId": "0a1ce955-8d2b-4e3b-b2c4-69af93c10792"
      },
      "execution_count": 25,
      "outputs": [
        {
          "output_type": "stream",
          "name": "stdout",
          "text": [
            "Enter the number of X:1\n",
            "Enter the number of X:2\n",
            "Enter the number of X:3\n",
            "Enter the number of X:4\n",
            "Enter the number of X:5\n",
            "Enter the number of Y:3\n",
            "Enter the number of Y:5\n",
            "Enter the number of Y:7\n",
            "Enter the number of Y:9\n",
            "Enter the number of Y:11\n",
            "Count reached,Slope is :  2.029007845767451 y_int  : 0.8952724726398813\n",
            "\n",
            " Equation of line is :  \t Y = 2.029007845767451 * X   +  ( 0.8952724726398813 )\n",
            "\n",
            "Enter the number you want to predict:6\n",
            "\n",
            " Answer is : 13.06931954724459\n"
          ]
        }
      ]
    },
    {
      "cell_type": "code",
      "source": [
        ""
      ],
      "metadata": {
        "id": "4QUgP36A2Wxk"
      },
      "execution_count": null,
      "outputs": []
    }
  ]
}