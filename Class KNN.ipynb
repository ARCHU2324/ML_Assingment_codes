{
 "cells": [
  {
   "cell_type": "code",
   "execution_count": 131,
   "id": "f7fb313e",
   "metadata": {},
   "outputs": [],
   "source": [
    "import numpy as np\n",
    "import pandas as pd\n"
   ]
  },
  {
   "cell_type": "code",
   "execution_count": 96,
   "id": "40ad1309",
   "metadata": {},
   "outputs": [],
   "source": [
    "\n",
    "# for i in range(len(x)):\n",
    "#     temp=(pt[0]-x[i])**2+(pt[1]-y[i])**2\n",
    "#     l.append(temp)\n",
    "# l"
   ]
  },
  {
   "cell_type": "code",
   "execution_count": 167,
   "id": "08b103eb",
   "metadata": {},
   "outputs": [],
   "source": [
    "class KNN:\n",
    "    x = [1,2,3,4,5,6,7]\n",
    "    y = [1,2,3,4,5,6,7]\n",
    "    z= ['A','A','A','B','B','B','B']\n",
    "    globals()['pt']=[]\n",
    "    l=[]\n",
    "    def __init__():\n",
    "        globals()['pt']=[]\n",
    "    \n",
    "    def feed_data():\n",
    "        temp=int(input(\"Enter the first value:\"))\n",
    "        pt.append(temp)\n",
    "        temp=int(input(\"Enter the second value:\"))\n",
    "        pt.append(temp)\n",
    "        return pt\n",
    "  \n",
    "    def pred():\n",
    "        df=pd.DataFrame(x,columns=['X1'])\n",
    "        df['X2']=y\n",
    "        df[\"Class\"]=z\n",
    "        df_req=df.drop(['Class'],axis=1)\n",
    "        distance= []\n",
    "        for i in range(len(df)):\n",
    "            l = np.linalg.norm(np.array(df_req[i:i+1])-np.array(pt))\n",
    "            distance.append(l)\n",
    "        distance\n",
    "        df['distance']=distance\n",
    "        df1=df.sort_values(by=['distance'])\n",
    "        df1=df1.reset_index(drop=True)\n",
    "        k=int(input(\"enter the value of k :\"))\n",
    "        df1=df1.head(k)\n",
    "        df2=df1['Class'].value_counts()\n",
    "        clas=df2.index[0]\n",
    "        prob=df2[0]*100/len(df1)\n",
    "        return clas,prob\n",
    "    "
   ]
  },
  {
   "cell_type": "code",
   "execution_count": 168,
   "id": "52dd4e37",
   "metadata": {},
   "outputs": [
    {
     "name": "stdout",
     "output_type": "stream",
     "text": [
      "Enter the first value:3\n",
      "Enter the second value:3\n"
     ]
    },
    {
     "data": {
      "text/plain": [
       "[3, 3]"
      ]
     },
     "execution_count": 168,
     "metadata": {},
     "output_type": "execute_result"
    }
   ],
   "source": [
    "KNN.feed_data()"
   ]
  },
  {
   "cell_type": "code",
   "execution_count": 169,
   "id": "2f96ad27",
   "metadata": {},
   "outputs": [
    {
     "name": "stdout",
     "output_type": "stream",
     "text": [
      "enter the value of k3\n"
     ]
    },
    {
     "data": {
      "text/plain": [
       "('A', 66.66666666666667)"
      ]
     },
     "execution_count": 169,
     "metadata": {},
     "output_type": "execute_result"
    }
   ],
   "source": [
    "KNN.pred()"
   ]
  },
  {
   "cell_type": "code",
   "execution_count": null,
   "id": "ef067f8e",
   "metadata": {},
   "outputs": [],
   "source": []
  }
 ],
 "metadata": {
  "kernelspec": {
   "display_name": "Python 3",
   "language": "python",
   "name": "python3"
  },
  "language_info": {
   "codemirror_mode": {
    "name": "ipython",
    "version": 3
   },
   "file_extension": ".py",
   "mimetype": "text/x-python",
   "name": "python",
   "nbconvert_exporter": "python",
   "pygments_lexer": "ipython3",
   "version": "3.8.8"
  }
 },
 "nbformat": 4,
 "nbformat_minor": 5
}
