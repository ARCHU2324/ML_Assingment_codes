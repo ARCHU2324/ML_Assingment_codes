{
  "nbformat": 4,
  "nbformat_minor": 0,
  "metadata": {
    "colab": {
      "name": "Class_Linear_REgrssion.ipynb",
      "provenance": [],
      "collapsed_sections": []
    },
    "kernelspec": {
      "name": "python3",
      "display_name": "Python 3"
    },
    "language_info": {
      "name": "python"
    },
    "accelerator": "GPU"
  },
  "cells": [
    {
      "cell_type": "code",
      "source": [
        "class Linear_reg:\n",
        "    def start():\n",
        "\n",
        "        globals()['x1']=[]\n",
        "        globals()['x2']=[]\n",
        "        globals()['y']=[]\n",
        "        for i in range(1,6):\n",
        "            a=int(input(\"Enter the number of X1:\"))\n",
        "            x1.append(a)\n",
        "        for i in range(1,6):\n",
        "            a=int(input(\"Enter the number of X2:\"))\n",
        "            x2.append(a)\n",
        "        for i in range(1,6):\n",
        "            a=int(input(\"Enter the number of Y:\"))\n",
        "            y.append(a)\n",
        "        Linear_reg.start_regression()\n",
        "\n",
        "\n",
        "    def start_regression():\n",
        "        m2=0\n",
        "        m1=0\n",
        "        y_int=0\n",
        "        counter=0\n",
        "        globals()['error_list']=[]\n",
        "        globals()['slope1']=[]\n",
        "        globals()['slope2']=[]\n",
        "        globals()['intercept']=[]\n",
        "        Linear_reg.reg(m1,m2,y_int,counter)\n",
        "\n",
        "    def reg(m1,m2,y_int,counter):\n",
        "        error=0\n",
        "        dm1=0\n",
        "        dm2=0\n",
        "        dc=0\n",
        "        y_hat=[]\n",
        "\n",
        "        # creating y-hat = mx\n",
        "        for i in range(len(x1)):\n",
        "            temp=x1[i]*m1+x2[i]*m2+y_int\n",
        "            y_hat.append(temp)\n",
        "        \n",
        "        #Calculating error in error and dE/dm in dm and dE/dc in dc\n",
        "        for i in range(len(x1)):\n",
        "            temp=y_hat[i]-y[i]\n",
        "            error=error+temp*temp\n",
        "            dm1=temp*x1[i]+dm1\n",
        "            dm2=temp*x2[i]+dm2\n",
        "            dc= dc+temp\n",
        "\n",
        "        error_list.append(error)\n",
        "        slope1.append(m1)\n",
        "        slope1.append(m2)\n",
        "        intercept.append(y_int)\n",
        "        \n",
        "        #IF errror is less than 0.05 or it has reached 1000 steps break the fn\n",
        "        if counter==450:\n",
        "            \n",
        "            print(\"Count reached,Slope1 is : \",m1,\"Count reached,Slope2 is : \",m2,\"y_int  :\",y_int)\n",
        "            Linear_reg.pred(y_int,m1,m2)\n",
        "\n",
        "        elif error<0.01 :\n",
        "            \n",
        "            print(\"Count reached,Slope1 is : \",m1,\"Count reached,Slope2 is : \",m2,\"y_int  :\",y_int)\n",
        "            Linear_reg.pred(y_int,m1,m2)\n",
        "\n",
        "        #update the slope and intercept value\n",
        "        else:\n",
        "            Linear_reg.update(m1,dm1,m2,dm2,dc,y_int,counter)\n",
        "\n",
        "    #updating new slope \n",
        "    def update(m1,dm1,m2,dm2,dc,y_int,counter):\n",
        "        m_new1=m1-0.001*dm1\n",
        "        m_new2=m2-0.001*dm2\n",
        "        y_int_new=y_int-0.1*dc\n",
        "        counter+=1\n",
        "        Linear_reg.reg(m_new1,m_new2,y_int_new,counter)\n",
        "\n",
        "\n",
        "    #taking user input value and predicting output\n",
        "    def pred(y_int,m1,m2):\n",
        "        print(\"\\n Equation of line is :  \\t Y = {} * X1  +  {} * X2   +  ( {} )\\n\".format(m1,m2,y_int))\n",
        "        x1=int(input(\"Enter the number you want to predict:\"))\n",
        "        x2=int(input(\"Enter the number you want to predict:\"))\n",
        "        ans= m1*x1+m2*x2+y_int\n",
        "        return print(\"\\n Answer is :\",ans)\n"
      ],
      "metadata": {
        "id": "uGKcjKfSneEF"
      },
      "execution_count": 1,
      "outputs": []
    },
    {
      "cell_type": "code",
      "source": [
        "Linear_reg.start()"
      ],
      "metadata": {
        "colab": {
          "base_uri": "https://localhost:8080/"
        },
        "id": "w_3WoHzVtDed",
        "outputId": "31e966d8-fed3-4aa9-b2b3-be8fcf2ae993"
      },
      "execution_count": 6,
      "outputs": [
        {
          "output_type": "stream",
          "name": "stdout",
          "text": [
            "Enter the number of X1:11\n",
            "Enter the number of X1:5\n",
            "Enter the number of X1:3\n",
            "Enter the number of X1:0\n",
            "Enter the number of X1:9\n",
            "Enter the number of X2:2\n",
            "Enter the number of X2:4\n",
            "Enter the number of X2:3\n",
            "Enter the number of X2:8\n",
            "Enter the number of X2:6\n",
            "Enter the number of Y:49\n",
            "Enter the number of Y:21\n",
            "Enter the number of Y:15\n",
            "Enter the number of Y:-7\n",
            "Enter the number of Y:33\n",
            "Count reached,Slope1 is :  4.009771894067432 Count reached,Slope2 is :  -1.975800924741497 y_int  : 8.830477136431115\n",
            "\n",
            " Equation of line is :  \t Y = 4.009771894067432 * X1  +  -1.975800924741497 * X2   +  ( 8.830477136431115 )\n",
            "\n",
            "Enter the number you want to predict:3\n",
            "Enter the number you want to predict:2\n",
            "\n",
            " Answer is : 16.908190969150418\n"
          ]
        }
      ]
    },
    {
      "cell_type": "code",
      "source": [
        "Linear_reg.reg(0,0,0,0) "
      ],
      "metadata": {
        "id": "0rrvba9DsAnw"
      },
      "execution_count": null,
      "outputs": []
    },
    {
      "cell_type": "code",
      "source": [
        "x1=[11,5,3,0,9]\n",
        "x2=[2,4,3,8,6]\n",
        "y=[49,21,15,-7,33]"
      ],
      "metadata": {
        "id": "Ck6044lHzYoI"
      },
      "execution_count": 5,
      "outputs": []
    },
    {
      "cell_type": "code",
      "source": [
        "lst1=[]\n",
        "for i in range(len(x1)):\n",
        "    h=4*x1[i]-2*x2[i]+9\n",
        "    lst1.append(h)\n"
      ],
      "metadata": {
        "id": "ByQnSRvvyeuy"
      },
      "execution_count": 3,
      "outputs": []
    },
    {
      "cell_type": "code",
      "source": [
        "lst1"
      ],
      "metadata": {
        "colab": {
          "base_uri": "https://localhost:8080/"
        },
        "id": "ixtZf5boyl3c",
        "outputId": "ed40ddaa-c123-4202-d8a8-3fbf45949b20"
      },
      "execution_count": 4,
      "outputs": [
        {
          "output_type": "execute_result",
          "data": {
            "text/plain": [
              "[49, 21, 15, -7, 33]"
            ]
          },
          "metadata": {},
          "execution_count": 4
        }
      ]
    },
    {
      "cell_type": "code",
      "source": [
        ""
      ],
      "metadata": {
        "id": "zIeUunIJzv_g"
      },
      "execution_count": 7,
      "outputs": []
    },
    {
      "cell_type": "code",
      "source": [
        ""
      ],
      "metadata": {
        "id": "LVRZICNRzzo8"
      },
      "execution_count": null,
      "outputs": []
    }
  ]
}